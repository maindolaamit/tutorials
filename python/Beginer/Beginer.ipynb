{
 "cells": [
  {
   "cell_type": "markdown",
   "metadata": {},
   "source": [
    "<a href=\"https://www.linkedin.com/in/amit-maindola-51801423/\"><img src = \"https://cdn-images-1.medium.com/max/1200/1*u16a0WbJeckSdi6kGD3gVA.jpeg\" width = 400> </a>\n",
    "<h1 align=\"center\"><font size=5 color=\"DE5538\">Python - Beginer Excersie - 1</font></h1>"
   ]
  },
  {
   "cell_type": "markdown",
   "metadata": {},
   "source": [
    "## Introduction\n",
    "This Notebook covers some excersises and is intended for the new Python developer to develop their skills.  \n",
    "Each problem has a problem description and a table showing some sample output for that problem."
   ]
  },
  {
   "cell_type": "markdown",
   "metadata": {},
   "source": [
    "### _Excersise 1_\n",
    "\n",
    "Create a Function **sleep_in** that will return True if it is Weekend or Vacation.\n",
    "\n",
    "**weekday   :** Boolean value, True if it is weekday<br>\n",
    "**vacation  :** Boolean value, True if it is vacation<br>\n",
    "**returns   :** Boolean value, If it is work off<br>\n",
    "\n",
    "**Expected Results**\n",
    "\n",
    "<table align=left>\n",
    "    <tr><th>Input</th><th>Result</th></tr>\n",
    "    <tr><td>sleep_in(False, False)</td><td>True</td></tr>\n",
    "    <tr><td>sleep_in(True, False)</td><td>False</td></tr>\n",
    "    <tr><td>sleep_in(False, True)</td><td>True</td></tr>\n",
    "    <tr><td>sleep_in(True, True)</td><td>True</td></tr>\n",
    "</table>"
   ]
  },
  {
   "cell_type": "code",
   "execution_count": 5,
   "metadata": {},
   "outputs": [],
   "source": [
    "# Type your code here"
   ]
  },
  {
   "cell_type": "markdown",
   "metadata": {},
   "source": [
    "Double **Click** here for the solution\n",
    "<!--\n",
    "def is_off(weekday, vacation):\n",
    "    if vacation:\n",
    "        return True\n",
    "   else:\n",
    "        return not weekday\n",
    "-->"
   ]
  },
  {
   "cell_type": "code",
   "execution_count": null,
   "metadata": {},
   "outputs": [],
   "source": []
  },
  {
   "cell_type": "markdown",
   "metadata": {},
   "source": [
    "### _Excersise 2_\n",
    "\n",
    "Create a Function **monkey_trouble** that will return True if there is a trouble.  \n",
    "We have two monkeys, a and b, and the parameters a_smile and b_smile indicate if each is smiling.   \n",
    "We are in trouble if they are both smiling or if neither of them is smiling. Return True if we are in trouble.  \n",
    "\n",
    "\n",
    "**a_smile   :** Boolean value, True if Monkey A is smilling.<br>\n",
    "**b_smile  :** Boolean value, True if Monkey B is smilling.<br>\n",
    "**returns   :** Boolean value<br>\n",
    "\n",
    "**Expected Results**\n",
    "\n",
    "<table align=left>\n",
    "    <tr><th>Input</th><th>Result</th></tr>\n",
    "    <tr><td>sleep_in(False, False)</td><td>True</td></tr>\n",
    "    <tr><td>sleep_in(True, False)</td><td>False</td></tr>\n",
    "    <tr><td>sleep_in(False, True)</td><td>True</td></tr>\n",
    "    <tr><td>sleep_in(True, True)</td><td>True</td></tr>\n",
    "</table>"
   ]
  },
  {
   "cell_type": "code",
   "execution_count": 5,
   "metadata": {},
   "outputs": [],
   "source": [
    "# Type your code here"
   ]
  },
  {
   "cell_type": "markdown",
   "metadata": {},
   "source": [
    "Double **Click** here for the solution\n",
    "<!--\n",
    "def is_off(weekday, vacation):\n",
    "    if vacation:\n",
    "        return True\n",
    "   else:\n",
    "        return not weekday\n",
    "-->"
   ]
  }
 ],
 "metadata": {
  "kernelspec": {
   "display_name": "Python 3",
   "language": "python",
   "name": "python3"
  },
  "language_info": {
   "codemirror_mode": {
    "name": "ipython",
    "version": 3
   },
   "file_extension": ".py",
   "mimetype": "text/x-python",
   "name": "python",
   "nbconvert_exporter": "python",
   "pygments_lexer": "ipython3",
   "version": "3.7.1"
  }
 },
 "nbformat": 4,
 "nbformat_minor": 2
}
