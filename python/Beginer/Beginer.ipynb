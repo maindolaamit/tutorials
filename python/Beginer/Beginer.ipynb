{
 "cells": [
  {
   "cell_type": "markdown",
   "metadata": {},
   "source": [
    "<a href=\"https://www.linkedin.com/in/amit-maindola-51801423/\"><img src = \"https://cdn-images-1.medium.com/max/1200/1*u16a0WbJeckSdi6kGD3gVA.jpeg\" width = 400> </a>\n",
    "<h1 align=\"center\"><font size=5 color=\"DE5538\">Python - Beginer Excersie - 1</font></h1>"
   ]
  },
  {
   "cell_type": "markdown",
   "metadata": {},
   "source": [
    "## Introduction\n",
    "This Notebook covers some excersises and is intended for the new Python developer to develop their skills.  \n",
    "Each problem has a problem description and a table showing some sample output for that problem."
   ]
  },
  {
   "cell_type": "markdown",
   "metadata": {},
   "source": [
    "### _Excersise 1_\n",
    "\n",
    "Create a Function **sleep_in** that will return True if it is Weekend or Vacation.\n",
    "\n",
    "**weekday   :** Boolean value, True if it is weekday<br>\n",
    "**vacation  :** Boolean value, True if it is vacation<br>\n",
    "**returns   :** Boolean value, If it is work off<br>\n",
    "\n",
    "**Expected Results**\n",
    "\n",
    "<table align=left>\n",
    "    <tr><th>Input</th><th>Result</th></tr>\n",
    "    <tr><td>sleep_in(False, False)</td><td>True</td></tr>\n",
    "    <tr><td>sleep_in(True, False)</td><td>False</td></tr>\n",
    "    <tr><td>sleep_in(False, True)</td><td>True</td></tr>\n",
    "    <tr><td>sleep_in(True, True)</td><td>True</td></tr>\n",
    "</table>"
   ]
  },
  {
   "cell_type": "code",
   "execution_count": 5,
   "metadata": {},
   "outputs": [],
   "source": [
    "# Type your code here"
   ]
  },
  {
   "cell_type": "markdown",
   "metadata": {},
   "source": [
    "Double **Click** here for the solution\n",
    "<!--\n",
    "def is_off(weekday, vacation):\n",
    "    if vacation:\n",
    "        return True\n",
    "   else:\n",
    "        return not weekday\n",
    "-->"
   ]
  },
  {
   "cell_type": "code",
   "execution_count": null,
   "metadata": {},
   "outputs": [],
   "source": []
  },
  {
   "cell_type": "markdown",
   "metadata": {},
   "source": [
    "### _Excersise 2_\n",
    "\n",
    "Create a Function **monkey_trouble** that will return True if there is a trouble.  \n",
    "We have two monkeys, a and b, and the parameters a_smile and b_smile indicate if each is smiling.   \n",
    "We are in trouble if they are both smiling or if neither of them is smiling. Return True if we are in trouble.  \n",
    "\n",
    "\n",
    "**a_smile   :** Boolean value, True if Monkey A is smilling.<br>\n",
    "**b_smile  :** Boolean value, True if Monkey B is smilling.<br>\n",
    "**returns   :** Boolean value<br>\n",
    "\n",
    "**Expected Results**\n",
    "\n",
    "<table align=left>\n",
    "    <tr><th>Input</th><th>Result</th></tr>\n",
    "    <tr><td>sleep_in(False, False)</td><td>True</td></tr>\n",
    "    <tr><td>sleep_in(True, False)</td><td>False</td></tr>\n",
    "    <tr><td>sleep_in(False, True)</td><td>True</td></tr>\n",
    "    <tr><td>sleep_in(True, True)</td><td>True</td></tr>\n",
    "</table>"
   ]
  },
  {
   "cell_type": "code",
   "execution_count": 5,
   "metadata": {},
   "outputs": [],
   "source": [
    "# Type your code here"
   ]
  },
  {
   "cell_type": "markdown",
   "metadata": {},
   "source": [
    "Double **Click** here for the solution\n",
    "<!--\n",
    "def is_off(weekday, vacation):\n",
    "    if vacation:\n",
    "        return True\n",
    "   else:\n",
    "        return not weekday\n",
    "-->"
   ]
  },
  {
   "cell_type": "code",
   "execution_count": 33,
   "metadata": {},
   "outputs": [
    {
     "output_type": "execute_result",
     "data": {
      "text/plain": [
       "['ranjit', 'binoy', 'amit']"
      ]
     },
     "metadata": {},
     "execution_count": 33
    }
   ],
   "source": [
    "names"
   ]
  },
  {
   "cell_type": "code",
   "execution_count": 6,
   "metadata": {},
   "outputs": [
    {
     "output_type": "stream",
     "name": "stdout",
     "text": [
      "sum of a:10 and b : 5 is = 15\n"
     ]
    }
   ],
   "source": [
    "print(\"sum of a:\"+ str(a) +\" and b : \"+ str(b) +\" is = \" + str(sum) )"
   ]
  },
  {
   "cell_type": "code",
   "execution_count": 8,
   "metadata": {},
   "outputs": [
    {
     "output_type": "stream",
     "name": "stdout",
     "text": [
      "sum of a: 10 and b:5 is = 15\n"
     ]
    }
   ],
   "source": [
    "print(\"sum of a: {} and b:{} is = {}\".format(a, b, sum))"
   ]
  },
  {
   "cell_type": "code",
   "execution_count": 9,
   "metadata": {},
   "outputs": [
    {
     "output_type": "stream",
     "name": "stdout",
     "text": [
      "sum of a 10 and b:5 is 15\n"
     ]
    }
   ],
   "source": [
    "print(f\"sum of a {a} and b:{b} is {sum}\")"
   ]
  },
  {
   "cell_type": "code",
   "execution_count": 24,
   "metadata": {},
   "outputs": [
    {
     "output_type": "execute_result",
     "data": {
      "text/plain": [
       "[0, 20, 40, 60, 80, 100, 120, 140, 160, 180]"
      ]
     },
     "metadata": {},
     "execution_count": 24
    }
   ],
   "source": [
    "my_list = [i for i in range(200)]\n",
    "\n",
    "[i for i in my_list if i%20==0]\n"
   ]
  },
  {
   "cell_type": "code",
   "execution_count": 28,
   "metadata": {},
   "outputs": [
    {
     "output_type": "execute_result",
     "data": {
      "text/plain": [
       "['RANJIT', 'BINOY', 'AMIT']"
      ]
     },
     "metadata": {},
     "execution_count": 28
    }
   ],
   "source": [
    "names = ['ranjit', 'binoy', 'amit']\n",
    "\n",
    "# upper_names = []\n",
    "# for name in names:\n",
    "#     upper_names.append(name.upper())\n",
    "\n",
    "# print(upper_names)\n",
    "\n",
    "[name.upper() for name in names]"
   ]
  },
  {
   "cell_type": "code",
   "execution_count": 40,
   "metadata": {},
   "outputs": [
    {
     "output_type": "error",
     "ename": "NameError",
     "evalue": "name 'reduce' is not defined",
     "traceback": [
      "\u001b[1;31m---------------------------------------------------------------------------\u001b[0m",
      "\u001b[1;31mNameError\u001b[0m                                 Traceback (most recent call last)",
      "\u001b[1;32m<ipython-input-40-b4b83309c516>\u001b[0m in \u001b[0;36m<module>\u001b[1;34m\u001b[0m\n\u001b[0;32m      6\u001b[0m \u001b[1;31m# list(map(lambda x: f\"x:{x}\",  num_list ))\u001b[0m\u001b[1;33m\u001b[0m\u001b[1;33m\u001b[0m\u001b[1;33m\u001b[0m\u001b[0m\n\u001b[0;32m      7\u001b[0m \u001b[1;33m\u001b[0m\u001b[0m\n\u001b[1;32m----> 8\u001b[1;33m \u001b[0mreduce\u001b[0m\u001b[1;33m(\u001b[0m\u001b[1;32mlambda\u001b[0m \u001b[0mx\u001b[0m\u001b[1;33m:\u001b[0m\u001b[0mx\u001b[0m\u001b[1;33m%\u001b[0m\u001b[1;36m5\u001b[0m\u001b[1;33m==\u001b[0m\u001b[1;36m0\u001b[0m\u001b[1;33m,\u001b[0m \u001b[0mnum_list\u001b[0m\u001b[1;33m)\u001b[0m\u001b[1;33m\u001b[0m\u001b[1;33m\u001b[0m\u001b[0m\n\u001b[0m",
      "\u001b[1;31mNameError\u001b[0m: name 'reduce' is not defined"
     ]
    }
   ],
   "source": [
    "def func(x):\n",
    "    return f\"x:{x}\"\n",
    "\n",
    "num_list = list(range(1, 100))\n",
    "# list(map(lambda x: f\"x:{x}\",  list(range(1, 100)) ))\n",
    "# list(map(lambda x: f\"x:{x}\",  num_list ))\n",
    "\n",
    "reduce(lambda x:x%5==0, num_list)"
   ]
  },
  {
   "cell_type": "code",
   "execution_count": null,
   "metadata": {},
   "outputs": [],
   "source": []
  }
 ],
 "metadata": {
  "kernelspec": {
   "display_name": "Python 3",
   "language": "python",
   "name": "python3"
  },
  "language_info": {
   "codemirror_mode": {
    "name": "ipython",
    "version": 3
   },
   "file_extension": ".py",
   "mimetype": "text/x-python",
   "name": "python",
   "nbconvert_exporter": "python",
   "pygments_lexer": "ipython3",
   "version": "3.7.3-final"
  }
 },
 "nbformat": 4,
 "nbformat_minor": 2
}