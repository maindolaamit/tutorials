{
 "cells": [
  {
   "cell_type": "markdown",
   "metadata": {},
   "source": [
    "<a href=\"https://www.linkedin.com/in/amit-maindola-51801423/\"><img src = \"https://cdn-images-1.medium.com/max/1200/1*u16a0WbJeckSdi6kGD3gVA.jpeg\" width = 400> </a>\n",
    "<h1 align=\"center\"><font size=5 color=\"DE5538\">Numpy Basics - Excercises</font></h1>"
   ]
  },
  {
   "cell_type": "markdown",
   "metadata": {},
   "source": [
    "# Introduction\n",
    "In this Notebook we will solve the Excersies using NumPy Library.\n",
    "n; zero is the worst quality and ten is the best quality."
   ]
  },
  {
   "cell_type": "code",
   "execution_count": 2,
   "metadata": {},
   "outputs": [],
   "source": [
    "import numpy as np"
   ]
  },
  {
   "cell_type": "markdown",
   "metadata": {},
   "source": [
    "### Excersise 1\n",
    "Consider the polynomial expression\n",
    "\\begin{alignat*}\n",
    "8p(x) {}={} &a_0 &{}+{}& &a_1x &{}+{}& &a_2x^2 &{}+{}& &a_3x^3 .... &{}+{}& &a_nx^n &&&&&& &{}= \\sum_{n=0}^{N} &a_n&x^n\\\\\n",
    "\\end{alignat*}\n",
    "\n",
    "Write a function p such that p(x, coeff) that computes the value in (1) given a point x and a list of coefficients coeff.\n",
    "\n",
    "<li> Hint: Use np.cumprod()"
   ]
  },
  {
   "cell_type": "code",
   "execution_count": null,
   "metadata": {},
   "outputs": [],
   "source": [
    "def p(x, coeff):\n",
    "    X = np.empty(len(coeff))\n",
    "    X[0], X[1:] = 1, x\n",
    "    y = np.cumprod(X)\n",
    "    print(coeff * y)\n",
    "\n",
    "coef = np.random.randint(low=0, high=10, size=5)\n",
    "print(coef)\n",
    "p(5, coef)\n"
   ]
  },
  {
   "cell_type": "markdown",
   "metadata": {},
   "source": [
    "### Excersise 2\n",
    "Generate the Table of 1 to 10 in a columunar fashion"
   ]
  },
  {
   "cell_type": "code",
   "execution_count": 79,
   "metadata": {},
   "outputs": [
    {
     "data": {
      "text/plain": [
       "array([[  1,   2,   3,   4,   5,   6,   7,   8,   9,  10],\n",
       "       [  2,   4,   6,   8,  10,  12,  14,  16,  18,  20],\n",
       "       [  3,   6,   9,  12,  15,  18,  21,  24,  27,  30],\n",
       "       [  4,   8,  12,  16,  20,  24,  28,  32,  36,  40],\n",
       "       [  5,  10,  15,  20,  25,  30,  35,  40,  45,  50],\n",
       "       [  6,  12,  18,  24,  30,  36,  42,  48,  54,  60],\n",
       "       [  7,  14,  21,  28,  35,  42,  49,  56,  63,  70],\n",
       "       [  8,  16,  24,  32,  40,  48,  56,  64,  72,  80],\n",
       "       [  9,  18,  27,  36,  45,  54,  63,  72,  81,  90],\n",
       "       [ 10,  20,  30,  40,  50,  60,  70,  80,  90, 100]])"
      ]
     },
     "execution_count": 79,
     "metadata": {},
     "output_type": "execute_result"
    }
   ],
   "source": [
    "a = np.ones((10), dtype=int) \n",
    "b = np.array(np.arange(1,11), dtype=int).reshape(10,1)\n",
    "c = np.cumsum(a)*b\n",
    "c.dtype = int\n",
    "c"
   ]
  },
  {
   "cell_type": "markdown",
   "metadata": {},
   "source": [
    "### Excersise 3\n",
    "Generate a 10 x 3 array of random number. From each row, pick the column containing the number closest to 0.75  \n",
    "*Hint:* use of np.abs and np.armin to find the column j that contains the closest element in each row i. The final result should be a vector of Integrers of shape (10,)"
   ]
  },
  {
   "cell_type": "code",
   "execution_count": 111,
   "metadata": {},
   "outputs": [
    {
     "name": "stdout",
     "output_type": "stream",
     "text": [
      "[[0.28530691 0.68697086 0.04524872]\n",
      " [0.66762252 0.97661143 0.67508277]\n",
      " [0.63831747 0.95834441 0.41966958]\n",
      " [0.22868162 0.19404806 0.02648442]\n",
      " [0.50718932 0.42003594 0.98460329]\n",
      " [0.30848386 0.12251038 0.79514185]\n",
      " [0.77503167 0.42096067 0.52856504]\n",
      " [0.33273032 0.56203884 0.52394371]\n",
      " [0.51329606 0.85636007 0.35035946]\n",
      " [0.29989255 0.08404929 0.4811527 ]]\n"
     ]
    },
    {
     "data": {
      "text/plain": [
       "array([1, 2, 0, 0, 2, 2, 0, 1, 1, 2], dtype=int64)"
      ]
     },
     "execution_count": 111,
     "metadata": {},
     "output_type": "execute_result"
    }
   ],
   "source": [
    "arr = np.random.random((10,3))\n",
    "print(arr)\n",
    "closest_col = np.argmin(np.abs(arr-0.75), axis=1)\n",
    "closest_col\n"
   ]
  },
  {
   "cell_type": "code",
   "execution_count": null,
   "metadata": {},
   "outputs": [],
   "source": []
  }
 ],
 "metadata": {
  "kernelspec": {
   "display_name": "Python 3",
   "language": "python",
   "name": "python3"
  },
  "language_info": {
   "codemirror_mode": {
    "name": "ipython",
    "version": 3
   },
   "file_extension": ".py",
   "mimetype": "text/x-python",
   "name": "python",
   "nbconvert_exporter": "python",
   "pygments_lexer": "ipython3",
   "version": "3.7.3"
  }
 },
 "nbformat": 4,
 "nbformat_minor": 4
}
