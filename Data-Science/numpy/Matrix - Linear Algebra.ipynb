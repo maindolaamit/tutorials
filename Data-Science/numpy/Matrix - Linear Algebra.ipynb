{
 "cells": [
  {
   "cell_type": "markdown",
   "metadata": {},
   "source": [
    "<a href=\"https://www.linkedin.com/in/amit-maindola-51801423/\"><img src = \"https://cdn-images-1.medium.com/max/1200/1*u16a0WbJeckSdi6kGD3gVA.jpeg\" width = 400> </a>\n",
    "<h1 align=\"center\"><font size=5 color=\"DE5538\">Numpy - Linear Algebra</font></h1>"
   ]
  },
  {
   "cell_type": "markdown",
   "metadata": {},
   "source": [
    "## Introduction\n",
    "As we have already got familiar how to use Matrix using NumPy Libraray.  \n",
    "Let's try our hand to some Linear Algebra"
   ]
  },
  {
   "cell_type": "code",
   "execution_count": 2,
   "metadata": {},
   "outputs": [],
   "source": [
    "import numpy as np"
   ]
  },
  {
   "cell_type": "markdown",
   "metadata": {},
   "source": [
    "### Determinant of a Matrix"
   ]
  },
  {
   "cell_type": "code",
   "execution_count": 3,
   "metadata": {},
   "outputs": [
    {
     "name": "stdout",
     "output_type": "stream",
     "text": [
      "Determinant of matrix \n",
      "[[ 3  1 -3]\n",
      " [ 1  4  2]\n",
      " [-3  2  5]] \n",
      "==> -5.000000000000003\n",
      "Determinant of matrix \n",
      "[[ 2 -3  4]\n",
      " [ 5  6  7]\n",
      " [ 8  9  1]] \n",
      "==> -278.99999999999994\n"
     ]
    }
   ],
   "source": [
    "A = np.matrix('3 1 -3; 1 4 2; -3 2 5')\n",
    "B = np.matrix('2 -3 4; 5  6 7; 8 9 1')\n",
    "print(\"Determinant of matrix \\n{} \\n==> {}\".format(A, np.linalg.det(A)))\n",
    "print(\"Determinant of matrix \\n{} \\n==> {}\".format(B, np.linalg.det(B)))"
   ]
  },
  {
   "cell_type": "markdown",
   "metadata": {},
   "source": [
    "### Solve a linear Equation\n",
    "$$\n",
    "Ax = b\n",
    "$$"
   ]
  },
  {
   "cell_type": "code",
   "execution_count": 9,
   "metadata": {},
   "outputs": [
    {
     "data": {
      "text/plain": [
       "matrix([[ 1.],\n",
       "        [ 3.],\n",
       "        [-5.]])"
      ]
     },
     "execution_count": 9,
     "metadata": {},
     "output_type": "execute_result"
    }
   ],
   "source": [
    "A = np.matrix('1 1 -1; 0 8 6; -2 4 -6')\n",
    "b = np.matrix('9;-6;40')\n",
    "np.linalg.solve(A,b)"
   ]
  },
  {
   "cell_type": "markdown",
   "metadata": {},
   "source": [
    "### Rank of a Matrix\n",
    "Calculate the Rank of below Matrices.  \n",
    "$$\n",
    "A = \n",
    "\\begin{bmatrix}\n",
    "4  & -2 & 6 \\\\\n",
    "-2 & 1  & -3\n",
    "\\end{bmatrix}\n",
    "$$\n",
    "\n",
    "$$\n",
    "B=\n",
    "\\begin{bmatrix}\n",
    "0 & 3 & 5 \\\\\n",
    "3 & 5 & 0\n",
    "\\end{bmatrix}\n",
    "$$\n",
    "\n",
    "$$\n",
    "C=\n",
    "\\begin{bmatrix} \n",
    "2 & 4 & 8 & 16 \\\\\n",
    "16 & 8 & 4 & 0 \\\\ \n",
    "4 & 8 & 16 & 2 \\\\\n",
    "2 & 16 & 8 & 4 \\\\\n",
    "\\end{bmatrix}\n",
    "$$\n",
    "\n",
    "$$\n",
    "D=\n",
    "\\begin{bmatrix} \n",
    "5 & -2 & 1 & 0 \\\\\n",
    "-2 & 0 & -4 & 1 \\\\ \n",
    "1 & -4 & -11 & 2 \\\\\n",
    "0 & 1 & 2 & 0 \\\\\n",
    "\\end{bmatrix}\n",
    "$$"
   ]
  },
  {
   "cell_type": "code",
   "execution_count": 6,
   "metadata": {},
   "outputs": [
    {
     "name": "stdout",
     "output_type": "stream",
     "text": [
      "Rank of \n",
      "[[  5  -2   1   0]\n",
      " [ -2   0  -4   1]\n",
      " [  1  -4 -11   2]\n",
      " [  0   1   2   0]] is 3\n"
     ]
    }
   ],
   "source": [
    "A = np.matrix('4 -2 6;-2 1 -3')\n",
    "B = np.matrix('0 3 5;3 5 0')\n",
    "C = np.matrix('2 4 8 16;16 8 4 0;4 8 16 2;2 16 8 4')\n",
    "D = np.matrix('5 -2 1 0;-2 0 -4 1;1 -4 -11 2; 0 1 2 0')\n",
    "print(\"Rank of \\n{} is {}\".format(D, np.linalg.matrix_rank(D)))"
   ]
  },
  {
   "cell_type": "code",
   "execution_count": 6,
   "metadata": {},
   "outputs": [
    {
     "name": "stdout",
     "output_type": "stream",
     "text": [
      "2\n"
     ]
    }
   ],
   "source": [
    "\n",
    "print(np.linalg.matrix_rank(B))"
   ]
  },
  {
   "cell_type": "code",
   "execution_count": 17,
   "metadata": {},
   "outputs": [
    {
     "name": "stdout",
     "output_type": "stream",
     "text": [
      "3\n"
     ]
    }
   ],
   "source": [
    "A = np.matrix('3 1 -3; 1 4 2; -3 2 5')\n",
    "print(np.linalg.matrix_rank(A))"
   ]
  },
  {
   "cell_type": "code",
   "execution_count": 4,
   "metadata": {},
   "outputs": [
    {
     "data": {
      "text/plain": [
       "0.0"
      ]
     },
     "execution_count": 4,
     "metadata": {},
     "output_type": "execute_result"
    }
   ],
   "source": [
    "A = np.matrix('1 3 4; -4 2 -6; -3 -2 -7')\n",
    "np.linalg.det(A)"
   ]
  },
  {
   "cell_type": "markdown",
   "metadata": {},
   "source": [
    "#### Leontif's Input Output Model\n",
    "Find a Matrix **p** which satify the below equation \n",
    "$$Ap = p\\\\$$\n",
    "$$\n",
    "\\begin{bmatrix}\n",
    "0.1&0.5&0\\\\\n",
    "0.8&0&0.4\\\\\n",
    "0.1&0.5&0.6\\\\\n",
    "\\end{bmatrix}*\\begin{bmatrix}\n",
    "p1\\\\\n",
    "p2\\\\\n",
    "p3\\\\\n",
    "\\end{bmatrix} \n",
    " = \n",
    "\\begin{bmatrix}\n",
    "p1\\\\\n",
    "p2\\\\\n",
    "p3\\\\\n",
    "\\end{bmatrix} \n",
    "$$"
   ]
  },
  {
   "cell_type": "code",
   "execution_count": 15,
   "metadata": {},
   "outputs": [
    {
     "data": {
      "text/plain": [
       "matrix([[0.4 ],\n",
       "        [0.72],\n",
       "        [1.  ]])"
      ]
     },
     "execution_count": 15,
     "metadata": {},
     "output_type": "execute_result"
    }
   ],
   "source": [
    "A = np.matrix('0.1 0.5 0; 0.8 0 0.4; 0.1 0.5 0.6')\n",
    "b = np.matrix('0.4;0.72;1.0')\n",
    "A*b"
   ]
  }
 ],
 "metadata": {
  "kernelspec": {
   "display_name": "Python 3",
   "language": "python",
   "name": "python3"
  },
  "language_info": {
   "codemirror_mode": {
    "name": "ipython",
    "version": 3
   },
   "file_extension": ".py",
   "mimetype": "text/x-python",
   "name": "python",
   "nbconvert_exporter": "python",
   "pygments_lexer": "ipython3",
   "version": "3.7.1"
  }
 },
 "nbformat": 4,
 "nbformat_minor": 2
}
