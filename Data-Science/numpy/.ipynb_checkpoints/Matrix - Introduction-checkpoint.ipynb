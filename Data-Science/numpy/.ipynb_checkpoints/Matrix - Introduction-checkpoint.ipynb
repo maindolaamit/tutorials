{
 "cells": [
  {
   "cell_type": "markdown",
   "metadata": {
    "collapsed": true
   },
   "source": [
    "<a href=\"https://www.linkedin.com/in/amit-maindola-51801423/\"><img src = \"https://cdn-images-1.medium.com/max/1200/1*u16a0WbJeckSdi6kGD3gVA.jpeg\" width = 400> </a>\n",
    "<h1 align=\"center\"><font size=5 color=\"DE5538\">Matrix - Basic Operation</font></h1>"
   ]
  },
  {
   "cell_type": "markdown",
   "metadata": {},
   "source": [
    "## Introduction\n",
    "In this Notebook we will see the basics of Matrix Operation using NumPy"
   ]
  },
  {
   "cell_type": "code",
   "execution_count": 2,
   "metadata": {},
   "outputs": [],
   "source": [
    "### Import the Libraries\n",
    "import numpy as np"
   ]
  },
  {
   "cell_type": "markdown",
   "metadata": {},
   "source": [
    "A Matrix is representation of values in the Row and Column Format.  \n",
    "For e.g. below we have a 2 by 3 Matrix, having 2 rows and 3 columns.  \n",
    "$$\n",
    "A = \n",
    "\\begin{bmatrix}\n",
    "4  & -2 & 6 \\\\\n",
    "-2 & 1  & -3\n",
    "\\end{bmatrix}\n",
    "$$\n"
   ]
  },
  {
   "cell_type": "code",
   "execution_count": 3,
   "metadata": {},
   "outputs": [],
   "source": [
    "A = np.array([[0, 2, 4], [6, 5, 5], [1, 0, 3]])\n",
    "B = np.array([[0, 5, 2], [5, 3, 14], [-2, 4, -2]])\n",
    "C = np.array([[5, 2], [-2, 4], [1, 0]])\n",
    "D = np.array([[-4, 1], [5, 0], [2, -1]])\n"
   ]
  },
  {
   "cell_type": "markdown",
   "metadata": {},
   "source": [
    "#### Perform some Addition operation\n",
    "$$\n",
    "A = \n",
    "\\begin{bmatrix}\n",
    "4  & -2 & 6\\\\\n",
    "-2 & 1  & -3\\\\\n",
    "\\end{bmatrix}\n",
    "+\n",
    "\\begin{bmatrix}\n",
    "4  & -2 & 6\\\\\n",
    "-2 & 1  & -3\\\\\n",
    "\\end{bmatrix}\n",
    "$$"
   ]
  },
  {
   "cell_type": "code",
   "execution_count": 4,
   "metadata": {},
   "outputs": [
    {
     "name": "stdout",
     "output_type": "stream",
     "text": [
      "[[ 0 24 16]\n",
      " [32 22 66]\n",
      " [-6 16 -2]]\n"
     ]
    }
   ],
   "source": [
    "print(2 * A + 4 * B)\n"
   ]
  },
  {
   "cell_type": "markdown",
   "metadata": {},
   "source": [
    "### Idempotent Matrix \n",
    "A Matrix when multiplied with itself yields itself\n",
    "$$\n",
    "\\begin{bmatrix}\n",
    "4&-1\\\\\n",
    "12&-3\\\\\n",
    "\\end{bmatrix}\n",
    "$$"
   ]
  },
  {
   "cell_type": "code",
   "execution_count": 8,
   "metadata": {},
   "outputs": [
    {
     "name": "stdout",
     "output_type": "stream",
     "text": [
      "[[ 4 -1]\n",
      " [12 -3]]\n"
     ]
    }
   ],
   "source": [
    "ID = np.matrix('4 -1; 12 -3')\n",
    "print(ID*ID)"
   ]
  },
  {
   "cell_type": "markdown",
   "metadata": {},
   "source": [
    "### Vector Multiplication\n",
    "$$\n",
    "A = \n",
    "\\begin{bmatrix}\n",
    "4  & -2 & 6\\\\\n",
    "-2 & 1  & -3\\\\\n",
    "\\end{bmatrix}\n",
    "*\n",
    "\\begin{bmatrix}\n",
    "4  & -2 & 6\\\\\n",
    "-2 & 1  & -3\\\\\n",
    "\\end{bmatrix}\n",
    "$$"
   ]
  },
  {
   "cell_type": "code",
   "execution_count": 9,
   "metadata": {},
   "outputs": [
    {
     "data": {
      "text/plain": [
       "matrix([[ 3, -6,  0],\n",
       "        [ 1, -2,  0],\n",
       "        [-1,  2,  0]])"
      ]
     },
     "execution_count": 9,
     "metadata": {},
     "output_type": "execute_result"
    }
   ],
   "source": [
    "a = np.matrix('1 -2 0')\n",
    "b = np.matrix('3;1;-1')\n",
    "b * a\n"
   ]
  },
  {
   "cell_type": "markdown",
   "metadata": {},
   "source": [
    "### Transpose a Matrix\n",
    "$$\n",
    "A = \n",
    "\\begin{bmatrix}\n",
    "4  & -2 & 6\\\\\n",
    "-2 & 1  & -3\\\\\n",
    "1 & 2 & 2\\\\\n",
    "\\end{bmatrix}\n",
    "$$\n",
    "\n",
    "$$A^{T} = \n",
    "\\begin{bmatrix}\n",
    "4  & -2 & 1\\\\\n",
    "-2 & 1  & 2\\\\\n",
    "3 & 6  & 2\\\\\n",
    "\\end{bmatrix}$$"
   ]
  },
  {
   "cell_type": "code",
   "execution_count": 11,
   "metadata": {},
   "outputs": [
    {
     "data": {
      "text/plain": [
       "matrix([[ 4, -2,  1],\n",
       "        [-2,  1,  2],\n",
       "        [ 3,  6,  2]])"
      ]
     },
     "execution_count": 11,
     "metadata": {},
     "output_type": "execute_result"
    }
   ],
   "source": [
    "A = np.matrix('4 -2 6; -2 1 6; 1 2 2')\n",
    "A.T"
   ]
  },
  {
   "cell_type": "markdown",
   "metadata": {},
   "source": [
    "#### More Operations"
   ]
  },
  {
   "cell_type": "code",
   "execution_count": 12,
   "metadata": {},
   "outputs": [],
   "source": [
    "A = np.matrix('4 -2 3; -2 1 6; 1 2 2')\n",
    "B = np.matrix('1 -3 0; -3 1 0; 0 0 -2')\n",
    "C = np.matrix('0 1; 3 2; -2 0')"
   ]
  },
  {
   "cell_type": "code",
   "execution_count": 15,
   "metadata": {},
   "outputs": [
    {
     "data": {
      "text/plain": [
       "matrix([[ 10, -14,  -6],\n",
       "        [ -5,   7, -12],\n",
       "        [ -5,  -1,  -4]])"
      ]
     },
     "execution_count": 15,
     "metadata": {},
     "output_type": "execute_result"
    }
   ],
   "source": [
    "A*B"
   ]
  },
  {
   "cell_type": "code",
   "execution_count": 17,
   "metadata": {},
   "outputs": [
    {
     "data": {
      "text/plain": [
       "matrix([[-30, -18],\n",
       "        [ 45,   9],\n",
       "        [  5,  -7]])"
      ]
     },
     "execution_count": 17,
     "metadata": {},
     "output_type": "execute_result"
    }
   ],
   "source": [
    "A*B*C"
   ]
  },
  {
   "cell_type": "code",
   "execution_count": 8,
   "metadata": {},
   "outputs": [],
   "source": [
    "A = np.matrix('1 3 5; -3 -5 10; 1 8 9')"
   ]
  },
  {
   "cell_type": "code",
   "execution_count": 10,
   "metadata": {},
   "outputs": [
    {
     "data": {
      "text/plain": [
       "matrix([[ 35,  32,  70],\n",
       "        [ 32, 134,  47],\n",
       "        [ 70,  47, 146]])"
      ]
     },
     "execution_count": 10,
     "metadata": {},
     "output_type": "execute_result"
    }
   ],
   "source": [
    "A*A.T"
   ]
  },
  {
   "cell_type": "code",
   "execution_count": 11,
   "metadata": {},
   "outputs": [
    {
     "data": {
      "text/plain": [
       "matrix([[ 11,  26, -16],\n",
       "        [ 26,  98,  37],\n",
       "        [-16,  37, 206]])"
      ]
     },
     "execution_count": 11,
     "metadata": {},
     "output_type": "execute_result"
    }
   ],
   "source": [
    "A.T*A"
   ]
  },
  {
   "cell_type": "code",
   "execution_count": 12,
   "metadata": {},
   "outputs": [
    {
     "data": {
      "text/plain": [
       "matrix([[  2,   0,   6],\n",
       "        [  0, -10,  18],\n",
       "        [  6,  18,  18]])"
      ]
     },
     "execution_count": 12,
     "metadata": {},
     "output_type": "execute_result"
    }
   ],
   "source": [
    "A + A.T"
   ]
  },
  {
   "cell_type": "markdown",
   "metadata": {},
   "source": [
    "### Profit Vector\n",
    "Profit vector. Two factory outlets and in New York and Los Angeles sell sofas (S), chairs (C), and tables (T) \n",
    "with a profit of 5$, 2$ and 0$, respectively.\n",
    "Let the sales in a certain week be given by the matrix\n",
    "\n",
    "$$\n",
    "\\begin{bmatrix}\n",
    "400 & 60  &240\\\\\n",
    "100 & 120 &500\\\\\n",
    "\\end{bmatrix}\n",
    "*\n",
    "\\begin{bmatrix}\n",
    "5\\\\2\\\\0\n",
    "\\end{bmatrix}\n",
    "$$\n",
    "\n",
    "Introduce a “profit vector” p such that the components\n",
    "of v=Ap give the total profits of and ."
   ]
  },
  {
   "cell_type": "code",
   "execution_count": 20,
   "metadata": {},
   "outputs": [],
   "source": [
    "A = np.matrix('400 60 240; 100 120 500')\n",
    "p = np.matrix('5;2;0')"
   ]
  },
  {
   "cell_type": "code",
   "execution_count": 22,
   "metadata": {},
   "outputs": [
    {
     "data": {
      "text/plain": [
       "matrix([[2120],\n",
       "        [ 740]])"
      ]
     },
     "execution_count": 22,
     "metadata": {},
     "output_type": "execute_result"
    }
   ],
   "source": [
    "A*p"
   ]
  },
  {
   "cell_type": "code",
   "execution_count": 24,
   "metadata": {},
   "outputs": [
    {
     "data": {
      "text/plain": [
       "array([[400,  60, 240],\n",
       "       [100, 120, 500]])"
      ]
     },
     "execution_count": 24,
     "metadata": {},
     "output_type": "execute_result"
    }
   ],
   "source": [
    "A.A"
   ]
  }
 ],
 "metadata": {
  "kernelspec": {
   "display_name": "Python 3",
   "language": "python",
   "name": "python3"
  },
  "language_info": {
   "codemirror_mode": {
    "name": "ipython",
    "version": 3
   },
   "file_extension": ".py",
   "mimetype": "text/x-python",
   "name": "python",
   "nbconvert_exporter": "python",
   "pygments_lexer": "ipython3",
   "version": "3.7.1"
  }
 },
 "nbformat": 4,
 "nbformat_minor": 1
}
